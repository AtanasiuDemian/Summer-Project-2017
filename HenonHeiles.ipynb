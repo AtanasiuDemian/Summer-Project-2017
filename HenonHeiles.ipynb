{
 "cells": [
  {
   "cell_type": "markdown",
   "metadata": {},
   "source": [
    "# Detection of Lyapunov orbits in the Henon Heiles system"
   ]
  },
  {
   "cell_type": "markdown",
   "metadata": {},
   "source": [
    "This Jupyter Notebook contains the essential code used in the paper \"Detection of periodic orbits in Hamiltonian systems using Lagrangian Descriptors\". All code was written and executed in Python 2.7\n",
    "\n",
    "First import the necessary modules:"
   ]
  },
  {
   "cell_type": "code",
   "execution_count": 4,
   "metadata": {
    "collapsed": true
   },
   "outputs": [],
   "source": [
    "# @hidden_cell
    "from IPython.display import Image\n",
    "import numpy as np\n",
    "import matplotlib.pyplot as plt\n",
    "from scipy.integrate import odeint,quad,trapz\n",
    "import math"
   ]
  },
  {
   "cell_type": "markdown",
   "metadata": {},
   "source": [
    "Begin by plotting the contour of the Henon-Heiles potential at input values. The potential is given by:\n",
    "\n",
    "$$ V(x,y) = \\frac{1}{2}(x^2 + y^2) + x^2 y - \\frac{y^3}{3} $$\n"
   ]
  },
  {
   "cell_type": "code",
   "execution_count": 2,
   "metadata": {
    "collapsed": true
   },
   "outputs": [],
   "source": [
    "def potential(x,y):\n",
    "    return 0.5*(x**2+y**2)+(x**2)*y-(1.0/3.0)*(y**3)\n",
    "\n",
    "def HH_Contour(V):\n",
    "    \"\"\"\n",
    "    type V : List[float]\n",
    "    \"\"\"\n",
    "    x=np.linspace(-2.0,2.0,200)\n",
    "    y=np.linspace(-2.0,2.0,200)\n",
    "    X,Y=np.meshgrid(x,y)\n",
    "    Z=np.zeros((200,200))\n",
    "    for i in range(200):\n",
    "        for j in range(200):\n",
    "            Z[i,j]=potential(X[i,j],Y[i,j])\n",
    "    plt.figure(figsize=(12,12))\n",
    "    plt.contour(X,Y,Z,V)\n",
    "    plt.show()"
   ]
  },
  {
   "cell_type": "markdown",
   "metadata": {},
   "source": [
    "Figure below shows contour levels for different values of potential, ranging from $V=0.1$ to $V=0.2$:"
   ]
  },
  {
   "cell_type": "code",
   "execution_count": 12,
   "metadata": {},
   "outputs": [
    {
     "data": {
      "text/html": [
       "<img src=\"https://github.com/AtanasiuDemian/Summer-Project-2017/blob/master/Figures/contour.jpeg?raw=true\",\n",
       "width=\"700\">"
      ],
      "text/plain": [
       "<IPython.core.display.HTML object>"
      ]
     },
     "metadata": {},
     "output_type": "display_data"
    }
   ],
   "source": [
    "from IPython.display import display, HTML\n",
    "CSS = \"\"\"\n",
    ".output {\n",
    "    align-items: center;\n",
    "}\n",
    "\"\"\"\n",
    "display(HTML('''<img src=\"https://github.com/AtanasiuDemian/Summer-Project-2017/blob/master/Figures/contour.jpeg?raw=true\",\n",
    "width=\"700\">'''.format(CSS)))"
   ]
  },
  {
   "cell_type": "markdown",
   "metadata": {},
   "source": [
    "Notice that for V < $\\frac{1}{6}$ the motion is bounded, while for V > $\\frac{1}{6}$ the trajectories escape to infinity.\n",
    "\n",
    "The Henon-Heiles Hamiltonian is:\n",
    "\n",
    "\n",
    "$$ H(x,y,p_{x},p_{y})=\\frac{1}{2}(p_{x}^{2}+p_{y}^2) + V(x,y)$$\n",
    "\n",
    "Since the system is autonomous, it follows that $H$ is conserved. Creating an LD color plot usually involves 2 functions: one which computes the LD for a given pair of initial conditions and value of energy, and another which creates the plot itself by dividing the 2D grid into \"cells\" of initial conditions and recording the value of the former function for each cell. \n"
   ]
  },
  {
   "cell_type": "markdown",
   "metadata": {},
   "source": [
    "Consider the linearized Henon-Heiles around equilibrum $(0,1,0,0)$. By analizing the eigenvalues of the linear system matrix, it can be analitically concluded that $(x,p_{x})$ is the center manifold and $(Y,p_{Y})$ is the saddle space ($Y:=y-1$). As shown in the paper, the $(Y,p_{Y})$ LD plot will attain minimum at coordinates $(0,0)$ for every $h>1/6$.\n",
    "\n",
    "The code segment below creates a plot of LD for the nonlinear system in the $(y,p_{y})$ plane at fixed energy:"
   ]
  },
  {
   "cell_type": "code",
   "execution_count": 6,
   "metadata": {
    "collapsed": true
   },
   "outputs": [],
   "source": [
    "def compute_LD_1(y0,py_0,x0,h,tau):\n",
    "    def HH(fun,t):\n",
    "        x,y,px,py=fun\n",
    "        derivative=[px,py,-x-2*x*y,-x**2-y+y**2]\n",
    "        return derivative\n",
    "    px_0=math.sqrt(2*h-py_0**2-2*V(x0,y0))\n",
    "    IC=[x0,y0,px_0,py_0]\n",
    "    t1=np.linspace(0,-tau,100*tau)\n",
    "    sol1=odeint(HH, IC, t1)\n",
    "    t2=np.linspace(0,tau,100*tau)\n",
    "    sol2=odeint(HH, IC, t2)\n",
    "    sol1=sol1[::-1]\n",
    "    sol=np.vstack((sol1,sol2))\n",
    "    t1=t1[::-1] \n",
    "    t=np.hstack((t1,t2)) \n",
    "    integrand=[]\n",
    "    for i in range(200*tau):\n",
    "        integrand.append(math.sqrt(abs(sol[:,2][i]))+math.sqrt(abs(sol[:,3][i]))+math.sqrt(abs(sol[:,0][i]+2*sol[:,0][i]*sol[:,1][i]))+math.sqrt(abs(sol[:,0][i]**2+sol[:,1][i]-sol[:,1][i]**2)))\n",
    "    return trapz(integrand,t)\n",
    "\n",
    "def PLOT_1(h,x0,tau):\n",
    "    y=np.linspace(-0.45,0.55,600)\n",
    "    py=np.linspace(-0.45,0.45,600) #Plots at different energies usually have distinct limits of axes.\n",
    "    Y,PY=np.meshgrid(y,py)\n",
    "    Z=np.zeros((600,600))\n",
    "    for i in range(600):\n",
    "        for j in range(600):\n",
    "            try:\n",
    "                Z[i,j]=compute_LD_1(Y[i,j], PY[i,j], x0, h, tau)\n",
    "            except ValueError:\n",
    "                Y[i,j]=np.nan\n",
    "                PY[i,j]=np.nan\n",
    "    plt.figure(figsize=(12,12))\n",
    "    CM=plt.pcolormesh(Y,PY,Z)\n",
    "    plt.colorbar(CM) \n",
    "    plt.xlim(y[0],y[-1])\n",
    "    plt.ylim(py[0],py[-1])\n",
    "    plt.xlabel('y')\n",
    "    plt.ylabel('py')\n",
    "    plt.show()"
   ]
  },
  {
   "cell_type": "markdown",
   "metadata": {},
   "source": [
    "The LD plot for the linearized system is coded analogously, the only change is in the definition of the function defining the system of ODEs, $p_{x_{0}}$ and $\\texttt{integrand}$."
   ]
  },
  {
   "cell_type": "code",
   "execution_count": null,
   "metadata": {
    "collapsed": true
   },
   "outputs": [],
   "source": [
    "def linear_HH(fun,t):\n",
    "    x,y,px,py=fun\n",
    "    derivative=[px,py,-3*x,y-1]\n",
    "    return derivative\n",
    "\n",
    "px_0=math.sqrt(2*h-py_0**2-3*(x0**2)+(y0-1)**2-(1.0/3.0))"
   ]
  },
  {
   "cell_type": "code",
   "execution_count": null,
   "metadata": {
    "collapsed": true
   },
   "outputs": [],
   "source": [
    "for i in range(200*tau):\n",
    "    integrand.append(math.sqrt(abs(sol[:,2][i]))+math.sqrt(abs(sol[:,3][i]))+math.sqrt(3*abs(sol[:,0][i]))+math.sqrt(abs(sol[:,1][i]-1)))\n",
    "return trapz(integrand,t)"
   ]
  },
  {
   "cell_type": "markdown",
   "metadata": {},
   "source": [
    "$\\texttt{PLOT_1}$ plots the LD on a grid $(y,p_{y})$ of initial conditions by taking a slice $x_{0}$ of the phase space, with variable $p_{x}$ computed from the conservation of Hamiltonian. The Henon-Heiles equations are integrated using the $\\texttt{odeint}$ function with time step 0.01. To avoid inacurracies, function $\\texttt{odeint}$ is called separately for intervals $[0,-\\tau]$ and $[0,\\tau]$. The two resulting $(100*tau) \\times 4$ matrices are combined using $\\texttt{np.vstack}$. For $h>1/6$ many trajectories escape to infinity, hence it is possible to select a color scale with $\\texttt{plt.clim}(min,max)$, where $min$ and $max$ are chosen such that the phase space structure is as clear as possible. Any numerical value above $max$ will be dark red and any value below $min$ will be dark blue.\n",
    "\n",
    "For $H<1/6$ and $\\tau$ sufficiently large the output of $\\texttt{PLOT_1}$ is similar to surfaces of section, yet the fate of trajectories was not analyzed. This result highlights the advantage of Lagrangian Descriptors: while surfaces of section require a determination of whether a certain trajectory will ever return to the section, the LD only requires computation of solutions under given initial conditions.\n",
    "\n",
    "As an example, figure below represents the output of $\\texttt{PLOT_1}$ for $H=1/12$ and $x_{0}=0$, with $\\tau=50$. "
   ]
  },
  {
   "cell_type": "markdown",
   "metadata": {},
   "source": [
    "<img src=\"https://github.com/AtanasiuDemian/Summer-Project-2017/blob/master/Figures/h=0.0833_tau=50.jpg?raw=true\", width=\"750\">"
   ]
  },
  {
   "cell_type": "markdown",
   "metadata": {},
   "source": [
    "As energy approaches $1/6$ from below, the surface of section is dominated by chaotic regime:"
   ]
  },
  {
   "cell_type": "markdown",
   "metadata": {},
   "source": [
    "<img src=\"https://github.com/AtanasiuDemian/Summer-Project-2017/blob/master/Figures/HH_h=0.1666_tau=50.jpg?raw=true\", width=\"900\">"
   ]
  },
  {
   "cell_type": "markdown",
   "metadata": {},
   "source": [
    "For $h>1/6$ the $(y,p_{y})$ plane represents the saddle-space. The figure below shows the output for $h=0.17$ and $x_{0}=0$, with $\\tau=5$.\n"
   ]
  },
  {
   "cell_type": "markdown",
   "metadata": {},
   "source": [
    "<img src=\"https://github.com/AtanasiuDemian/Summer-Project-2017/blob/master/Figures/h=0.17_tau=5.0.jpeg?raw=true\", width=\"700\">"
   ]
  },
  {
   "cell_type": "markdown",
   "metadata": {},
   "source": [
    "\n",
    "For the nonlinear system, as the Hamiltonian increases, the minimum (always located at the intersection of stable and unstable manifolds) will move away from $(1,0)$. Furthermore, as $\\tau$ is increased, structure of the saddle space becomes fractal:"
   ]
  },
  {
   "cell_type": "markdown",
   "metadata": {},
   "source": [
    "<img src=\"https://github.com/AtanasiuDemian/Summer-Project-2017/blob/master/Figures/fractal_0.25_20.jpeg?raw=true\", width=\"900\">"
   ]
  },
  {
   "cell_type": "markdown",
   "metadata": {},
   "source": [
    "As described in the paper, location of Lyapunov orbits for fixed energy is computed by determining the coordinates of minimum of LD in plots such as the one above. Nevertheless, this raises a complexity issue: if the number of cells in every row and column of the grid is $n$, then the grid can be viewed as a $n\\times n$ matrix. Since computation of minimum requires transversing each element of the matrix at least once, it follows that computational complexity is $\\mathcal{O}(n^2)$.\n",
    "\n",
    "Henon-Heiles system is extremely sensitive to initial conditions, therefore a high resolution grid is required in order to accurately determine the coordinates of minimun. The function $\\texttt{min_search}$ shown below works as follows:\n",
    "\n",
    "-Consider a square a grid of initial condition $(y,p_{y})$ centered at $(1,0)$.\n",
    "\n",
    "-Locate the minimum of LD.\n",
    "\n",
    "-\"Trim\" the sides of the square grid to form a new square with sides of half length than previous ones, centered around the coordinates of minimum.\n",
    "\n",
    "-Search for minimum in the new grid."
   ]
  },
  {
   "cell_type": "code",
   "execution_count": 9,
   "metadata": {
    "collapsed": true
   },
   "outputs": [],
   "source": [
    "def min_search(h,x0,tau):\n",
    "    \"\"\"\n",
    "    Attempts to improve accuracy of minimum coordinates, for h>1/6.\n",
    "    Assumes coordinates of minimum are in the neighbourhood of (1,0)\n",
    "    \"\"\"\n",
    "    y_min,y_max=0.98,1.02\n",
    "    py_min,py_max=-0.02,0.02\n",
    "    for _ in range(15):   # 15 iterations yielded very accurate results.\n",
    "        if k in [0,1]:\n",
    "            size=200\n",
    "        else:\n",
    "            size=100\n",
    "        y=np.linspace(y_min,y_max,size)\n",
    "        py=np.linspace(py_min,py_max,size)\n",
    "        Y,PY=np.meshgrid(y,py)\n",
    "        Z=np.zeros((size,size))\n",
    "        for i in range(size):\n",
    "            for j in range(size):\n",
    "                try:\n",
    "                    Z[i,j]=compute_LD_1(Y[i,j],PY[i,j],x0,h,tau)\n",
    "                except ValueError:\n",
    "                    Y[i,j]=np.nan\n",
    "                    PY[i,j]=np.nan\n",
    "        indices=np.where(Z==np.amin(Z)) # np.amin(Z) returns minimum element of array Z\n",
    "        y_length=y_max-y_min\n",
    "        py_length=py_max-py_min\n",
    "        y_min=Y[indices[0][0],indices[1][0]]-y_length/4.0  # reduces search area\n",
    "        y_max=Y[indices[0][0],indices[1][0]]+y_length/4.0\n",
    "        py_min=PY[indices[0][0],indices[1][0]]-py_length/4.0\n",
    "        py_max=PY[indices[0][0],indices[1][0]]+py_length/4.0\n",
    "    return 'LD attains minimum along line y=' + str(Y[indices[0][0],indices[1][0]]), 'LD attains minimum along line py=' + str(PY[indices[0][0],indices[1][0]])"
   ]
  },
  {
   "cell_type": "markdown",
   "metadata": {},
   "source": [
    "For $x_{0}=0$ quadratic complexity can be avoided by noting the minimum is located on line $p_{y_{0}}=0$, hence complexity of the search problem reduces to $\\mathcal{O}(n)$."
   ]
  },
  {
   "cell_type": "code",
   "execution_count": null,
   "metadata": {
    "collapsed": true
   },
   "outputs": [],
   "source": [
    "def line_min_search(h,tau):\n",
    "    \"\"\"\n",
    "    Returns y0 coordinate of minimum of LD. Assumes x0=0 and\n",
    "    py_0 coordinate of minimum will be 0.\n",
    "    \"\"\"\n",
    "    y_min,y_max=1.0,1.03\n",
    "    for _ in range(4):\n",
    "        y=np.linspace(y_min,y_max,10001)\n",
    "        z=np.zeros((10001,))\n",
    "        for i in range(10001):\n",
    "            z[i]=compute_LD_1(y[i,j],0,0,h,tau)\n",
    "        index=np.where(z==np.amin(z))\n",
    "        y_length=y_max-y_min\n",
    "        y_min=Y[index[0][0]]-y_length/16.0\n",
    "        y_max=Y[index[0][0]]+y_length/16.0\n",
    "    return 'LD reaches minimum at y= '+str(y[index[0][0]])"
   ]
  },
  {
   "cell_type": "markdown",
   "metadata": {},
   "source": [
    "Function $\\texttt{energy_level}$ creates an LD plot in the $(y,h)$ plane. For each energy $h$, it plots the LD for an array of $y_{0}$ of initial conditions. It assumes $x_{0}=0$ (hence $p_{y_{0}}$=0). As $\\tau$ increases, more and more trajectories escape to infinity (thus higher resolution is necessary) and location of Lyapunov orbits becomes clearer."
   ]
  },
  {
   "cell_type": "code",
   "execution_count": null,
   "metadata": {
    "collapsed": true
   },
   "outputs": [],
   "source": [
    "def energy_level(tau):\n",
    "    \"\"\"\n",
    "    Assumes x0=0, hence coordinate py_0 of minimum will be 0.\n",
    "    \"\"\"\n",
    "    h=np.linspace(0.18,0.35,601)\n",
    "    y=np.linspace(0.85,1.10,601)\n",
    "    Y,H=np.meshgrid(y,h)\n",
    "    Z=np.zeros((601,601))\n",
    "    for i in range(601):\n",
    "        for j in range(601):\n",
    "            try:\n",
    "                Z[i,j]=compute_LD_1(y[i,j],0,0,h,tau)\n",
    "            except ValueError:\n",
    "                Y[i,j]=np.nan\n",
    "                PY[i,j]=np.nan\n",
    "    plt.figure(figsize=(12,10))\n",
    "    CM=plt.pcolormesh(Y,H,Z)\n",
    "    plt.colorbar(CM)\n",
    "    plt.clim(40,90)\n",
    "    plt.xlim(y[0],y[-1])\n",
    "    plt.ylim(h[0],h[-1])\n",
    "    plt.xlabel('y')\n",
    "    plt.ylabel('h')\n",
    "    plt.show()"
   ]
  },
  {
   "cell_type": "markdown",
   "metadata": {},
   "source": [
    "Below is the output of $\\texttt{energy_level}(15)$:"
   ]
  },
  {
   "cell_type": "markdown",
   "metadata": {},
   "source": [
    "<img src=\"https://github.com/AtanasiuDemian/Summer-Project-2017/blob/master/Figures/bifurcation.jpeg?raw=true\", width=\"700\">"
   ]
  },
  {
   "cell_type": "markdown",
   "metadata": {},
   "source": [
    "Lyapunov orbits are located at the rightmost blue points and exhibit the correct behaviour: any trajectory with initial conditions to the right of these points will escape to infinity."
   ]
  },
  {
   "cell_type": "markdown",
   "metadata": {},
   "source": [
    "<img src=\"https://github.com/AtanasiuDemian/Summer-Project-2017/blob/master/Figures/bifurcation2.jpeg?raw=true\", width=\"900\">"
   ]
  },
  {
   "cell_type": "markdown",
   "metadata": {},
   "source": []
  }
 ],
 "metadata": {
  "kernelspec": {
   "display_name": "Python 3",
   "language": "python",
   "name": "python3"
  },
  "language_info": {
   "codemirror_mode": {
    "name": "ipython",
    "version": 3
   },
   "file_extension": ".py",
   "mimetype": "text/x-python",
   "name": "python",
   "nbconvert_exporter": "python",
   "pygments_lexer": "ipython3",
   "version": "3.6.1"
  }
 },
 "nbformat": 4,
 "nbformat_minor": 2
}
